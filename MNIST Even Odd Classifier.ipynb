{
  "nbformat": 4,
  "nbformat_minor": 0,
  "metadata": {
    "colab": {
      "provenance": []
    },
    "kernelspec": {
      "name": "python3",
      "display_name": "Python 3"
    },
    "language_info": {
      "name": "python"
    }
  },
  "cells": [
    {
      "cell_type": "code",
      "execution_count": 1,
      "metadata": {
        "id": "sEJk64DZRhF8"
      },
      "outputs": [],
      "source": [
        "import numpy as np\n",
        "import matplotlib.pyplot as plt\n",
        "import tensorflow as tf"
      ]
    },
    {
      "cell_type": "code",
      "source": [
        "(x_train, y_train), (x_test, y_test) = tf.keras.datasets.mnist.load_data()"
      ],
      "metadata": {
        "colab": {
          "base_uri": "https://localhost:8080/"
        },
        "id": "bUynE2UwRtN9",
        "outputId": "14340075-f767-4a54-cfe3-894313c4c23e"
      },
      "execution_count": 2,
      "outputs": [
        {
          "output_type": "stream",
          "name": "stdout",
          "text": [
            "Downloading data from https://storage.googleapis.com/tensorflow/tf-keras-datasets/mnist.npz\n",
            "\u001b[1m11490434/11490434\u001b[0m \u001b[32m━━━━━━━━━━━━━━━━━━━━\u001b[0m\u001b[37m\u001b[0m \u001b[1m0s\u001b[0m 0us/step\n"
          ]
        }
      ]
    },
    {
      "cell_type": "code",
      "source": [
        "x_train = x_train / 255.0\n",
        "x_test = x_test / 255.0"
      ],
      "metadata": {
        "id": "3bO2bk0BRw3a"
      },
      "execution_count": 66,
      "outputs": []
    },
    {
      "cell_type": "code",
      "source": [
        "# Flatten the images to be vectors\n",
        "x_train = x_train.reshape(-1, 28 * 28)\n",
        "x_test = x_test.reshape(-1, 28 * 28)"
      ],
      "metadata": {
        "id": "im5X5R7zRzso"
      },
      "execution_count": 67,
      "outputs": []
    },
    {
      "cell_type": "code",
      "source": [
        "# Convert the digit labels to even/odd labels:\n",
        "# Even -> 0, Odd -> 1\n",
        "y_train = np.array([label % 2 for label in y_train])\n",
        "y_test = np.array([label % 2 for label in y_test])\n",
        "\n",
        "unique, counts = np.unique(y_train, return_counts=True)\n",
        "print(f\"Training class distribution: {dict(zip(unique, counts))}\")\n",
        "\n",
        "unique, counts = np.unique(y_test, return_counts=True)\n",
        "print(f\"Test class distribution: {dict(zip(unique, counts))}\")"
      ],
      "metadata": {
        "id": "Vgc5V4ALR2rR",
        "colab": {
          "base_uri": "https://localhost:8080/"
        },
        "outputId": "cf924da8-b47b-448f-8e70-de46d8664cb2"
      },
      "execution_count": 92,
      "outputs": [
        {
          "output_type": "stream",
          "name": "stdout",
          "text": [
            "Training class distribution: {0: 29492, 1: 30508}\n",
            "Test class distribution: {0: 4926, 1: 5074}\n"
          ]
        }
      ]
    },
    {
      "cell_type": "code",
      "source": [
        "# Initializing parameters\n",
        "n_features = x_train.shape[1]\n",
        "w1 = np.random.randn(n_features) * 0.1\n",
        "G1 = np.random.randn(n_features) * 0.1\n",
        "b = np.random.randn() * 0.1\n",
        "learning_rate = 0.05"
      ],
      "metadata": {
        "id": "W7E-_VbTR913"
      },
      "execution_count": 141,
      "outputs": []
    },
    {
      "cell_type": "code",
      "source": [
        "# sigmoid activation function that returns the probabilistic output D\n",
        "def sigmoid(z):\n",
        "  z = np.clip(z, -50, 50)\n",
        "  return 1 / (1 + np.exp(-z))"
      ],
      "metadata": {
        "id": "-GnHmw_hSOX8"
      },
      "execution_count": 94,
      "outputs": []
    },
    {
      "cell_type": "code",
      "source": [
        "def train_entropy_gradient(x_train, y_train, epochs=50, batch_size=32):\n",
        "    global w1, G1, b\n",
        "    num_samples = x_train.shape[0]\n",
        "    accuracies = []\n",
        "\n",
        "    # Learning rate dynamic adjustment\n",
        "    initial_learning_rate = 0.01\n",
        "    max_learning_rate = 0.05\n",
        "    min_learning_rate = 0.001\n",
        "\n",
        "    # Delta dynamic adjustment\n",
        "    initial_delta = 0.2\n",
        "    final_delta = 0.05\n",
        "\n",
        "    prev_accuracy = 0  # Track last epoch's accuracy\n",
        "\n",
        "    for epoch in range(epochs):\n",
        "        indices = np.random.permutation(num_samples)\n",
        "        x_train, y_train = x_train[indices], y_train[indices]\n",
        "\n",
        "        # Adjust learning rate dynamically\n",
        "        learning_rate = max(min_learning_rate, min(max_learning_rate, initial_learning_rate * (1.02 ** epoch)))\n",
        "        if epoch > 1 and accuracies[-1] > prev_accuracy:\n",
        "            learning_rate = min(max_learning_rate, learning_rate * 1.05)\n",
        "        elif epoch > 1 and accuracies[-1] <= prev_accuracy:\n",
        "            learning_rate = max(min_learning_rate, learning_rate * 0.9)\n",
        "\n",
        "        prev_accuracy = accuracies[-1] if epoch > 1 else 0\n",
        "\n",
        "        delta = max(final_delta, initial_delta * (0.98 ** epoch))\n",
        "\n",
        "        for i in range(0, num_samples, batch_size):\n",
        "            x_batch = x_train[i : i + batch_size]\n",
        "            y_batch = y_train[i : i + batch_size]\n",
        "\n",
        "            # Compute predictions\n",
        "            z_old = np.dot(x_batch, (w1 + G1)) + b\n",
        "            D = sigmoid(z_old)\n",
        "\n",
        "            # Compute binary cross-entropy gradient\n",
        "            grad = (D - y_batch)  # Difference between predicted and actual labels\n",
        "\n",
        "            # Compute weight updates using gradient\n",
        "            w1_update = -learning_rate * np.dot(grad, x_batch) / batch_size\n",
        "            G1_update = -learning_rate * np.dot(grad, x_batch) / batch_size\n",
        "            b_update = -learning_rate * np.mean(grad)\n",
        "\n",
        "            # Updating the new knowledge value\n",
        "            z_new = z_old + np.dot(x_batch, (w1_update + G1_update)) + b_update\n",
        "\n",
        "            # Checking if the new knowledge value is violated in the batch and computing the highest violation of the z constraint\n",
        "            max_violation = np.max(z_new - z_old - delta)\n",
        "\n",
        "            # Atleast one sample has an update that exceeds delta, so a global scale factor is applied to all the samples in the batch\n",
        "            if max_violation > 0:\n",
        "              scale_factor = delta / (max_violation + 1e-8)\n",
        "            else:\n",
        "              scale_factor = 1.0 # No violation, so update remains unchanged\n",
        "\n",
        "            # Applying the scaled updates\n",
        "            w1 += scale_factor * w1_update\n",
        "            G1 += scale_factor * G1_update\n",
        "            b += scale_factor * b_update\n",
        "\n",
        "        # Evaluate accuracy after each epoch\n",
        "        z_test = np.dot(x_test, (w1 + G1)) + b\n",
        "        predictions = (sigmoid(z_test) >= 0.5).astype(int)\n",
        "        accuracy = np.mean(predictions == y_test)\n",
        "        accuracies.append(accuracy)\n",
        "\n",
        "        print(f\"Epoch {epoch + 1}, Accuracy: {accuracy:.4f}\")\n",
        "\n",
        "    # Plot accuracy over epochs\n",
        "    plt.plot(range(1, epochs + 1), accuracies, marker='o')\n",
        "    plt.xlabel(\"Epoch\")\n",
        "    plt.ylabel(\"Accuracy\")\n",
        "    plt.title(\"Training Accuracy Over Epochs\")\n",
        "    plt.grid()\n",
        "    plt.show()"
      ],
      "metadata": {
        "id": "TQ0zS2qc7Rqe"
      },
      "execution_count": 161,
      "outputs": []
    },
    {
      "cell_type": "code",
      "source": [
        "def visualize_results():\n",
        "    random_indices = np.random.randint(0, x_test.shape[0], size = 10)\n",
        "\n",
        "    plt.figure(figsize = (15, 6))\n",
        "\n",
        "    for idx, i in enumerate(random_indices):\n",
        "        image = x_test[i].reshape(28, 28)\n",
        "        true_label = y_test[i]\n",
        "        prediction = (sigmoid(np.dot(x_test[i], (w1 + G1)) + b) >= 0.5).astype(int)\n",
        "\n",
        "        plt.subplot(2, 5, idx + 1)\n",
        "        plt.imshow(image, cmap = 'gray')\n",
        "        plt.title(f\"True: {'Odd' if true_label else 'Even'}\\nPred: {'Odd' if prediction else 'Even'}\")\n",
        "        plt.axis('off')\n",
        "\n",
        "    plt.show()"
      ],
      "metadata": {
        "id": "eMGS_mEAG53W"
      },
      "execution_count": 145,
      "outputs": []
    },
    {
      "cell_type": "code",
      "source": [
        "# Train and visualize results\n",
        "train_entropy_gradient(x_train, y_train, epochs=50)"
      ],
      "metadata": {
        "colab": {
          "base_uri": "https://localhost:8080/",
          "height": 1000
        },
        "id": "zyzWDXznHMEd",
        "outputId": "9d52e4b4-6854-44a0-c5ea-e818a3efbd2f"
      },
      "execution_count": 162,
      "outputs": [
        {
          "output_type": "stream",
          "name": "stdout",
          "text": [
            "Epoch 1, Accuracy: 0.5074\n",
            "Epoch 2, Accuracy: 0.7703\n",
            "Epoch 3, Accuracy: 0.8072\n",
            "Epoch 4, Accuracy: 0.8072\n",
            "Epoch 5, Accuracy: 0.8043\n",
            "Epoch 6, Accuracy: 0.8061\n",
            "Epoch 7, Accuracy: 0.8069\n",
            "Epoch 8, Accuracy: 0.8041\n",
            "Epoch 9, Accuracy: 0.8027\n",
            "Epoch 10, Accuracy: 0.8051\n",
            "Epoch 11, Accuracy: 0.8070\n",
            "Epoch 12, Accuracy: 0.8076\n",
            "Epoch 13, Accuracy: 0.8078\n",
            "Epoch 14, Accuracy: 0.8047\n",
            "Epoch 15, Accuracy: 0.8056\n",
            "Epoch 16, Accuracy: 0.8058\n",
            "Epoch 17, Accuracy: 0.8054\n",
            "Epoch 18, Accuracy: 0.8062\n",
            "Epoch 19, Accuracy: 0.8032\n",
            "Epoch 20, Accuracy: 0.8040\n",
            "Epoch 21, Accuracy: 0.8018\n",
            "Epoch 22, Accuracy: 0.8087\n",
            "Epoch 23, Accuracy: 0.8072\n",
            "Epoch 24, Accuracy: 0.8058\n",
            "Epoch 25, Accuracy: 0.8072\n",
            "Epoch 26, Accuracy: 0.8048\n",
            "Epoch 27, Accuracy: 0.8060\n",
            "Epoch 28, Accuracy: 0.8018\n",
            "Epoch 29, Accuracy: 0.8082\n",
            "Epoch 30, Accuracy: 0.8065\n",
            "Epoch 31, Accuracy: 0.8043\n",
            "Epoch 32, Accuracy: 0.8069\n",
            "Epoch 33, Accuracy: 0.8016\n",
            "Epoch 34, Accuracy: 0.8076\n",
            "Epoch 35, Accuracy: 0.8072\n",
            "Epoch 36, Accuracy: 0.8080\n",
            "Epoch 37, Accuracy: 0.8051\n",
            "Epoch 38, Accuracy: 0.8037\n",
            "Epoch 39, Accuracy: 0.8087\n",
            "Epoch 40, Accuracy: 0.8046\n",
            "Epoch 41, Accuracy: 0.8072\n",
            "Epoch 42, Accuracy: 0.8066\n",
            "Epoch 43, Accuracy: 0.8064\n",
            "Epoch 44, Accuracy: 0.8074\n",
            "Epoch 45, Accuracy: 0.8092\n",
            "Epoch 46, Accuracy: 0.8078\n",
            "Epoch 47, Accuracy: 0.8067\n",
            "Epoch 48, Accuracy: 0.8081\n",
            "Epoch 49, Accuracy: 0.8079\n",
            "Epoch 50, Accuracy: 0.8099\n"
          ]
        },
        {
          "output_type": "display_data",
          "data": {
            "text/plain": [
              "<Figure size 640x480 with 1 Axes>"
            ],
            "image/png": "[encoded data removed]"
          },
          "metadata": {}
        }
      ]
    },
    {
      "cell_type": "code",
      "source": [
        "def evaluate_model():\n",
        "    # Computing z for the test set\n",
        "    z_test = np.dot(x_test, (w1 + G1)) + b\n",
        "\n",
        "    # Applying sigmoid to convert into probabilities\n",
        "    D_test = sigmoid(z_test)\n",
        "\n",
        "    # Converting probabilities into binary predictions (0 for even, 1 for odd)\n",
        "    predictions = (D_test >= 0.5).astype(int)\n",
        "\n",
        "    # Computing accuracy: percentage of correct predictions\n",
        "    accuracy = np.mean(predictions == y_test)\n",
        "\n",
        "    print(f\"\\nFinal Test Accuracy: {accuracy:.4f}\")\n",
        "\n",
        "# Call this function after training\n",
        "evaluate_model()"
      ],
      "metadata": {
        "colab": {
          "base_uri": "https://localhost:8080/"
        },
        "id": "uW28UJXiVFN6",
        "outputId": "675f5987-147d-4777-914c-fc02ab19f6fe"
      },
      "execution_count": 163,
      "outputs": [
        {
          "output_type": "stream",
          "name": "stdout",
          "text": [
            "\n",
            "Final Test Accuracy: 0.8099\n"
          ]
        }
      ]
    },
    {
      "cell_type": "code",
      "source": [
        "visualize_results()"
      ],
      "metadata": {
        "colab": {
          "base_uri": "https://localhost:8080/",
          "height": 501
        },
        "id": "3ueCu5NRVCii",
        "outputId": "d3e0885a-0adb-40fa-93f9-56fff7cedf80"
      },
      "execution_count": 164,
      "outputs": [
        {
          "output_type": "display_data",
          "data": {
            "text/plain": [
              "<Figure size 1500x600 with 10 Axes>"
            ],
            "image/png": "[encoded data removed]"
          },
          "metadata": {}
        }
      ]
    }
  ]
}